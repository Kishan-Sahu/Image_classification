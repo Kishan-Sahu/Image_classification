{
 "cells": [
  {
   "cell_type": "code",
   "execution_count": 1,
   "metadata": {},
   "outputs": [
    {
     "name": "stderr",
     "output_type": "stream",
     "text": [
      "C:\\Users\\Code_love_r\\Anaconda3\\lib\\site-packages\\h5py\\__init__.py:36: FutureWarning: Conversion of the second argument of issubdtype from `float` to `np.floating` is deprecated. In future, it will be treated as `np.float64 == np.dtype(float).type`.\n",
      "  from ._conv import register_converters as _register_converters\n",
      "Using TensorFlow backend.\n"
     ]
    }
   ],
   "source": [
    "from keras.models import Sequential\n",
    "from keras.layers import Convolution2D\n",
    "from keras.layers import MaxPooling2D\n",
    "from keras.layers import Flatten\n",
    "from keras.layers import Dense"
   ]
  },
  {
   "cell_type": "code",
   "execution_count": 2,
   "metadata": {},
   "outputs": [
    {
     "name": "stderr",
     "output_type": "stream",
     "text": [
      "WARNING: Logging before flag parsing goes to stderr.\n",
      "W0116 16:31:36.617523  3604 deprecation_wrapper.py:119] From C:\\Users\\Code_love_r\\Anaconda3\\lib\\site-packages\\keras\\backend\\tensorflow_backend.py:74: The name tf.get_default_graph is deprecated. Please use tf.compat.v1.get_default_graph instead.\n",
      "\n"
     ]
    }
   ],
   "source": [
    "classifier=Sequential()"
   ]
  },
  {
   "cell_type": "code",
   "execution_count": 3,
   "metadata": {},
   "outputs": [
    {
     "name": "stderr",
     "output_type": "stream",
     "text": [
      "C:\\Users\\Code_love_r\\Anaconda3\\lib\\site-packages\\ipykernel_launcher.py:1: UserWarning: Update your `Conv2D` call to the Keras 2 API: `Conv2D(32, (3, 3), input_shape=(64, 64, 3..., activation=\"relu\")`\n",
      "  \"\"\"Entry point for launching an IPython kernel.\n",
      "W0116 16:31:37.341904  3604 deprecation_wrapper.py:119] From C:\\Users\\Code_love_r\\Anaconda3\\lib\\site-packages\\keras\\backend\\tensorflow_backend.py:517: The name tf.placeholder is deprecated. Please use tf.compat.v1.placeholder instead.\n",
      "\n",
      "W0116 16:31:37.542693  3604 deprecation_wrapper.py:119] From C:\\Users\\Code_love_r\\Anaconda3\\lib\\site-packages\\keras\\backend\\tensorflow_backend.py:4138: The name tf.random_uniform is deprecated. Please use tf.random.uniform instead.\n",
      "\n"
     ]
    }
   ],
   "source": [
    "classifier.add(Convolution2D(32,3,3,input_shape=(64,64,3),activation='relu'))"
   ]
  },
  {
   "cell_type": "code",
   "execution_count": 4,
   "metadata": {},
   "outputs": [
    {
     "name": "stderr",
     "output_type": "stream",
     "text": [
      "W0116 16:31:37.690892  3604 deprecation_wrapper.py:119] From C:\\Users\\Code_love_r\\Anaconda3\\lib\\site-packages\\keras\\backend\\tensorflow_backend.py:3976: The name tf.nn.max_pool is deprecated. Please use tf.nn.max_pool2d instead.\n",
      "\n"
     ]
    }
   ],
   "source": [
    "classifier.add(MaxPooling2D(pool_size=(2,2)))"
   ]
  },
  {
   "cell_type": "code",
   "execution_count": 5,
   "metadata": {},
   "outputs": [],
   "source": [
    "classifier.add(Flatten())"
   ]
  },
  {
   "cell_type": "code",
   "execution_count": 6,
   "metadata": {},
   "outputs": [
    {
     "name": "stderr",
     "output_type": "stream",
     "text": [
      "C:\\Users\\Code_love_r\\Anaconda3\\lib\\site-packages\\ipykernel_launcher.py:1: UserWarning: Update your `Dense` call to the Keras 2 API: `Dense(activation=\"relu\", units=128)`\n",
      "  \"\"\"Entry point for launching an IPython kernel.\n",
      "C:\\Users\\Code_love_r\\Anaconda3\\lib\\site-packages\\ipykernel_launcher.py:2: UserWarning: Update your `Dense` call to the Keras 2 API: `Dense(activation=\"sigmoid\", units=1)`\n",
      "  \n"
     ]
    }
   ],
   "source": [
    "classifier.add(Dense(output_dim=128,activation='relu'))\n",
    "classifier.add(Dense(output_dim=1,activation='sigmoid'))"
   ]
  },
  {
   "cell_type": "code",
   "execution_count": 7,
   "metadata": {},
   "outputs": [
    {
     "name": "stderr",
     "output_type": "stream",
     "text": [
      "W0116 16:31:38.107680  3604 deprecation_wrapper.py:119] From C:\\Users\\Code_love_r\\Anaconda3\\lib\\site-packages\\keras\\optimizers.py:790: The name tf.train.Optimizer is deprecated. Please use tf.compat.v1.train.Optimizer instead.\n",
      "\n",
      "W0116 16:31:38.126502  3604 deprecation_wrapper.py:119] From C:\\Users\\Code_love_r\\Anaconda3\\lib\\site-packages\\keras\\backend\\tensorflow_backend.py:3376: The name tf.log is deprecated. Please use tf.math.log instead.\n",
      "\n",
      "W0116 16:31:38.134492  3604 deprecation.py:323] From C:\\Users\\Code_love_r\\Anaconda3\\lib\\site-packages\\tensorflow\\python\\ops\\nn_impl.py:180: add_dispatch_support.<locals>.wrapper (from tensorflow.python.ops.array_ops) is deprecated and will be removed in a future version.\n",
      "Instructions for updating:\n",
      "Use tf.where in 2.0, which has the same broadcast rule as np.where\n"
     ]
    }
   ],
   "source": [
    "classifier.compile(optimizer='adam',loss='binary_crossentropy',metrics=['accuracy'])"
   ]
  },
  {
   "cell_type": "code",
   "execution_count": 8,
   "metadata": {},
   "outputs": [],
   "source": [
    "from keras.preprocessing.image import ImageDataGenerator"
   ]
  },
  {
   "cell_type": "code",
   "execution_count": 9,
   "metadata": {},
   "outputs": [],
   "source": [
    "#Data Augmentation\n",
    "train_datagen = ImageDataGenerator(\n",
    "        rescale=1./255,\n",
    "        shear_range=0.2,\n",
    "        zoom_range=0.2,\n",
    "        horizontal_flip=True)\n",
    "\n",
    "test_datagen = ImageDataGenerator(rescale=1./255)"
   ]
  },
  {
   "cell_type": "code",
   "execution_count": 10,
   "metadata": {},
   "outputs": [
    {
     "name": "stdout",
     "output_type": "stream",
     "text": [
      "Found 508 images belonging to 2 classes.\n"
     ]
    }
   ],
   "source": [
    "#Trainig Data\n",
    "train_set = train_datagen.flow_from_directory(\n",
    "        'Dataset/train_set',\n",
    "        target_size=(64, 64),\n",
    "        batch_size=32,\n",
    "        class_mode='binary')\n",
    "\n"
   ]
  },
  {
   "cell_type": "code",
   "execution_count": 11,
   "metadata": {},
   "outputs": [
    {
     "name": "stdout",
     "output_type": "stream",
     "text": [
      "Found 69 images belonging to 2 classes.\n"
     ]
    }
   ],
   "source": [
    "#Test Data\n",
    "test_set = test_datagen.flow_from_directory(\n",
    "        'Dataset/test_set',\n",
    "        target_size=(64, 64),\n",
    "        batch_size=32,\n",
    "        class_mode='binary')"
   ]
  },
  {
   "cell_type": "code",
   "execution_count": 12,
   "metadata": {},
   "outputs": [
    {
     "name": "stderr",
     "output_type": "stream",
     "text": [
      "W0116 16:31:39.479472  3604 deprecation_wrapper.py:119] From C:\\Users\\Code_love_r\\Anaconda3\\lib\\site-packages\\keras\\backend\\tensorflow_backend.py:986: The name tf.assign_add is deprecated. Please use tf.compat.v1.assign_add instead.\n",
      "\n"
     ]
    },
    {
     "name": "stdout",
     "output_type": "stream",
     "text": [
      "Epoch 1/20\n",
      "508/508 [==============================] - 492s 968ms/step - loss: 0.2558 - acc: 0.8987 - val_loss: 0.4346 - val_acc: 0.8406\n",
      "Epoch 2/20\n",
      "508/508 [==============================] - 477s 939ms/step - loss: 0.0508 - acc: 0.9846 - val_loss: 0.5882 - val_acc: 0.8696\n",
      "Epoch 3/20\n",
      "508/508 [==============================] - 455s 896ms/step - loss: 0.0168 - acc: 0.9965 - val_loss: 0.6092 - val_acc: 0.8551\n",
      "Epoch 4/20\n",
      "508/508 [==============================] - 456s 897ms/step - loss: 0.0095 - acc: 0.9977 - val_loss: 1.0115 - val_acc: 0.8406\n",
      "Epoch 5/20\n",
      "508/508 [==============================] - 453s 892ms/step - loss: 0.0088 - acc: 0.9977 - val_loss: 0.9662 - val_acc: 0.8406\n",
      "Epoch 6/20\n",
      "508/508 [==============================] - 453s 891ms/step - loss: 0.0206 - acc: 0.9925 - val_loss: 1.1535 - val_acc: 0.7826\n",
      "Epoch 7/20\n",
      "508/508 [==============================] - 462s 910ms/step - loss: 0.0113 - acc: 0.9968 - val_loss: 1.0070 - val_acc: 0.8261\n",
      "Epoch 8/20\n",
      "508/508 [==============================] - 453s 892ms/step - loss: 0.0018 - acc: 0.9996 - val_loss: 0.9958 - val_acc: 0.8116\n",
      "Epoch 9/20\n",
      "508/508 [==============================] - 453s 892ms/step - loss: 2.7165e-04 - acc: 1.0000 - val_loss: 1.1372 - val_acc: 0.7971\n",
      "Epoch 10/20\n",
      "508/508 [==============================] - 460s 906ms/step - loss: 0.0225 - acc: 0.9928 - val_loss: 1.0603 - val_acc: 0.8551\n",
      "Epoch 11/20\n",
      "508/508 [==============================] - 481s 946ms/step - loss: 0.0064 - acc: 0.9977 - val_loss: 1.0780 - val_acc: 0.8406\n",
      "Epoch 12/20\n",
      "508/508 [==============================] - 472s 930ms/step - loss: 0.0108 - acc: 0.9962 - val_loss: 0.8745 - val_acc: 0.8696\n",
      "Epoch 13/20\n",
      "508/508 [==============================] - 476s 937ms/step - loss: 0.0018 - acc: 0.9995 - val_loss: 0.8803 - val_acc: 0.8841\n",
      "Epoch 14/20\n",
      "508/508 [==============================] - 482s 948ms/step - loss: 0.0085 - acc: 0.9970 - val_loss: 1.1509 - val_acc: 0.8551\n",
      "Epoch 15/20\n",
      "508/508 [==============================] - 485s 954ms/step - loss: 0.0012 - acc: 0.9997 - val_loss: 0.9161 - val_acc: 0.8406\n",
      "Epoch 16/20\n",
      "508/508 [==============================] - 492s 968ms/step - loss: 2.4106e-04 - acc: 1.0000 - val_loss: 1.1618 - val_acc: 0.8551\n",
      "Epoch 17/20\n",
      "508/508 [==============================] - 491s 967ms/step - loss: 0.0103 - acc: 0.9966 - val_loss: 1.0791 - val_acc: 0.8261\n",
      "Epoch 18/20\n",
      "508/508 [==============================] - 3508s 7s/step - loss: 0.0021 - acc: 0.9994 - val_loss: 1.4352 - val_acc: 0.8406\n",
      "Epoch 19/20\n",
      "508/508 [==============================] - 1677s 3s/step - loss: 1.7451e-04 - acc: 1.0000 - val_loss: 1.4209 - val_acc: 0.8261\n",
      "Epoch 20/20\n",
      "508/508 [==============================] - 987s 2s/step - loss: 5.5981e-05 - acc: 1.0000 - val_loss: 1.4224 - val_acc: 0.8406\n"
     ]
    },
    {
     "data": {
      "text/plain": [
       "<keras.callbacks.History at 0x250b327b588>"
      ]
     },
     "execution_count": 12,
     "metadata": {},
     "output_type": "execute_result"
    }
   ],
   "source": [
    "classifier.fit_generator(\n",
    "        train_set,\n",
    "        steps_per_epoch=508,\n",
    "        epochs=20,\n",
    "        validation_data=test_set,\n",
    "        validation_steps=69)"
   ]
  }
 ],
 "metadata": {
  "kernelspec": {
   "display_name": "Python 3",
   "language": "python",
   "name": "python3"
  },
  "language_info": {
   "codemirror_mode": {
    "name": "ipython",
    "version": 3
   },
   "file_extension": ".py",
   "mimetype": "text/x-python",
   "name": "python",
   "nbconvert_exporter": "python",
   "pygments_lexer": "ipython3",
   "version": "3.6.5"
  }
 },
 "nbformat": 4,
 "nbformat_minor": 2
}
